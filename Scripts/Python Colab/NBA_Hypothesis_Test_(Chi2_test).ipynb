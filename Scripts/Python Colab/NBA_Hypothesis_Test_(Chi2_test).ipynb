{
  "nbformat": 4,
  "nbformat_minor": 0,
  "metadata": {
    "colab": {
      "name": "NBA Hypothesis Test (Chi2-test).ipynb",
      "provenance": [],
      "authorship_tag": "ABX9TyN+s0RSFiHs9F+Ym3LwbEME",
      "include_colab_link": true
    },
    "kernelspec": {
      "name": "python3",
      "display_name": "Python 3"
    },
    "language_info": {
      "name": "python"
    }
  },
  "cells": [
    {
      "cell_type": "markdown",
      "metadata": {
        "id": "view-in-github",
        "colab_type": "text"
      },
      "source": [
        "<a href=\"https://colab.research.google.com/github/dimitramuni/NBA-Player-Profile-analysis/blob/main/Script/NBA_Hypothesis_Test_(Chi2_test).ipynb\" target=\"_parent\"><img src=\"https://colab.research.google.com/assets/colab-badge.svg\" alt=\"Open In Colab\"/></a>"
      ]
    },
    {
      "cell_type": "code",
      "metadata": {
        "id": "S7w9V2H4mDZR"
      },
      "source": [
        "import matplotlib.pyplot as plt\n",
        "import pandas as pd\n",
        "import numpy as np\n",
        "from datetime import datetime\n",
        "import calendar as cal\n",
        "import scipy.stats \n",
        "\n",
        "\n",
        "class NBA_HypothesisChi2Test:\n",
        "  '''\n",
        "      pandas dataframe must have following \n",
        "      features for the given team\n",
        "      ['Date', 'Sep', 'Opp', 'Result', \n",
        "       'TeamScore', 'OpponentScore', 'FG', \n",
        "       'FGA', 'FG%', '3P', '3PA', '3P%', \n",
        "       'FT', 'FTA', 'FT%', 'ORB', 'TRB',\n",
        "       'AST', 'STL', 'BLK', 'TOV', 'PF']\n",
        "        \n",
        "      ref:https://www.basketball-reference.com\n",
        "               /teams/POR/1999/gamelog/\n",
        "  '''\n",
        "\n",
        "  def __init__(self,df_gamelog):\n",
        "    \n",
        "\n",
        "    #new column indicating Home or Away game \n",
        "    df_gamelog['HomeAway']=np.where\\\n",
        "    (df_gamelog['Sep']=='@','Away','Home')\n",
        "  \n",
        "    #adding a new column indicating the \n",
        "    #day of the week based on the date \n",
        "    #ref:https://stackoverflow.com/questions\n",
        "    #  /9847213/how-do-i-get-the-day-of-week-given-a-date\n",
        "  \n",
        "    df_gamelog['Date']=pd.to_datetime(df_gamelog['Date'])\n",
        "\n",
        "    #adding a new column weekday which \n",
        "    #converts date into day of the week\n",
        "\n",
        "    df_gamelog['Weekday']=df_gamelog['Date']\\\n",
        "          .apply(lambda t:cal.day_name[t.dayofweek])\n",
        "\n",
        "  \n",
        "    #creating a new column indicating the difference\n",
        "    #in score for Portland against a specific team\n",
        "\n",
        "    df_gamelog['DiffScore']=df_gamelog['TeamScore']-\\\n",
        "     df_gamelog['OpponentScore']\n",
        "\n",
        "  \n",
        "    #creating a variable inside \n",
        "    #the class for further methods\n",
        "  \n",
        "    self.df_gamelog=df_gamelog\n",
        "\n",
        "\n",
        "  def hypothesis_chisqr(self,opponent_teams=\n",
        "                        ['LAL','LAC','GSW','DEN''SAS','PHO' ],\n",
        "                        significance_level=0.95):\n",
        "      \n",
        "      \n",
        "      \n",
        "      '''\n",
        "      selecting subset of original dataframe\n",
        "      to conisder matches against opponent_teams\n",
        "      '''\n",
        "\n",
        "      #idenitifying indicies of raw where \n",
        "      #opponent team is part of subset of interest\n",
        "      raw_inds= np.where(self.df_gamelog['Opp']\\\n",
        "                         .isin(opponent_teams))\n",
        "      '''\n",
        "      converting the indicies into 1D \n",
        "      numpy array for further use in the next step\n",
        "      '''\n",
        "      subset_inds=np.asarray(raw_inds).flatten()\n",
        "      #subset of original dataframe for furhter anlaysis\n",
        "      sub_df=self.df_gamelog.iloc[subset_inds]\n",
        "      print('\\nNo. of games on certain day',sub_df['Weekday'].value_counts())\n",
        "      '''\n",
        "      identifying indicies of \n",
        "      sub_df where Portland is winning\n",
        "      '''\n",
        "      raw_win=np.where(sub_df['Result']=='W')\n",
        "      raw_loss=np.where(sub_df['Result']=='L')\n",
        "      '''\n",
        "      converting the indicies into 1D numpy \n",
        "      array for further use in the next step\n",
        "      '''\n",
        "      win_inds=np.asarray(raw_win).flatten()\n",
        "       \n",
        "      loss_inds=np.asarray(raw_loss).flatten()\n",
        "      #wins observed on a certain day\n",
        "      w_o=sub_df.iloc[win_inds]['Weekday']\\\n",
        "          .value_counts()\n",
        "      print(w_o)\n",
        "      l_o=sub_df.iloc[loss_inds]['Weekday']\\\n",
        "          .value_counts()\n",
        "      print(l_o)\n",
        "      '''\n",
        "      expected winning on each day would be \n",
        "      equally divided across all days of the week\n",
        "      '''\n",
        "      w_e=win_inds.shape[0]/7\n",
        "\n",
        "      day_in_week=['Monday','Tuesday',\n",
        "                   'Wednesday','Thursday',\n",
        "                   'Friday','Saturday','Sunday']\n",
        "\n",
        "      ## chi_square statistics\n",
        "\n",
        "      #storing the calculations in an empty list\n",
        "      bar=[]\n",
        "      for day in day_in_week:\n",
        "        '''\n",
        "        calculating squared difference of observed \n",
        "        winning on certain day and expected winning \n",
        "        dividing this squared difference by expected \n",
        "        winning.\n",
        "        '''\n",
        "        bar.append((w_o[day]-w_e)**2/w_e)\n",
        "      chi_sq2_stat=sum(bar)\n",
        "      print('Chi square stat',chi_sq2_stat)\n",
        "      '''\n",
        "      chi-square value at 0.005 significance level\n",
        "      for degree of freedom = number of outcome - 1= \n",
        "      degree of freedom=7-1=6\n",
        "      here outcomes are winning on monday,\n",
        "      winning on tuesday, etc. n=7\n",
        "      '''\n",
        "      chi_val=scipy.stats.chi2.ppf\\\n",
        "      (significance_level,df=6)\n",
        "      print('Chi square value at',\n",
        "            significance_level*100,\n",
        "            '%',chi_val)\n",
        "\n",
        "      if(chi_sq2_stat>chi_val):\n",
        "        print('Reject null hypothesis.')\n",
        "      else:\n",
        "        print('Can not reject null hypothesis.')\n"
      ],
      "execution_count": null,
      "outputs": []
    },
    {
      "cell_type": "markdown",
      "metadata": {
        "id": "8W5Pg3ElYqZt"
      },
      "source": [
        "# Hypothesis test: significance of games against high performing teams of Western conference and day of the week on Winning ?"
      ]
    },
    {
      "cell_type": "markdown",
      "metadata": {
        "id": "bCBZFncTYu8d"
      },
      "source": [
        "* $H_0:-$ Trail Blazers playing on certain day of the week  has no effect on winning the game on that day.\n",
        "* $H_1:-$ There is some statistically significant advantage to play  on certain day of the week."
      ]
    },
    {
      "cell_type": "code",
      "metadata": {
        "colab": {
          "base_uri": "https://localhost:8080/"
        },
        "id": "jsYRmuQ-Yrns",
        "outputId": "4fab911f-9dff-43e5-f652-c201057ff8c0"
      },
      "source": [
        "\n",
        "df=pd.read_csv('/content/homeaway_updated.csv')\n",
        "#ignoring the matches from season 1998-99\n",
        "\n",
        "team_list=['LAL','LAC','GSW','DEN''SAS','PHO' ]\n",
        "df=df.drop([0,1])\n",
        "ob=NBA_HypothesisChi2Test(df)\n",
        "ob.hypothesis_chisqr(significance_level=0.995,opponent_teams=team_list)"
      ],
      "execution_count": null,
      "outputs": [
        {
          "output_type": "stream",
          "text": [
            "\n",
            "No. of games on certain day Wednesday    17\n",
            "Tuesday      15\n",
            "Saturday     13\n",
            "Friday       13\n",
            "Sunday       11\n",
            "Thursday      8\n",
            "Monday        3\n",
            "Name: Weekday, dtype: int64\n",
            "Wednesday    13\n",
            "Saturday      8\n",
            "Friday        8\n",
            "Tuesday       7\n",
            "Thursday      6\n",
            "Sunday        4\n",
            "Monday        3\n",
            "Name: Weekday, dtype: int64\n",
            "Tuesday      8\n",
            "Sunday       7\n",
            "Saturday     5\n",
            "Friday       5\n",
            "Wednesday    4\n",
            "Thursday     2\n",
            "Name: Weekday, dtype: int64\n",
            "Chi square stat 9.142857142857144\n",
            "Chi square value at 99.5 % 18.547584178511087\n",
            "Can not reject null hypothesis.\n"
          ],
          "name": "stdout"
        }
      ]
    }
  ]
}
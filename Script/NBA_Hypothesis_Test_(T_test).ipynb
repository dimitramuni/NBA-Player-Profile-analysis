{
  "nbformat": 4,
  "nbformat_minor": 0,
  "metadata": {
    "colab": {
      "name": "NBA Hypothesis Test (T-test)",
      "provenance": [],
      "authorship_tag": "ABX9TyPqleDF7kt4FgH/ANmRLapB",
      "include_colab_link": true
    },
    "kernelspec": {
      "name": "python3",
      "display_name": "Python 3"
    },
    "language_info": {
      "name": "python"
    }
  },
  "cells": [
    {
      "cell_type": "markdown",
      "metadata": {
        "id": "view-in-github",
        "colab_type": "text"
      },
      "source": [
        "<a href=\"https://colab.research.google.com/github/dimitramuni/NBA-Player-Profile-analysis/blob/main/Script/NBA_Hypothesis_Test_(T_test).ipynb\" target=\"_parent\"><img src=\"https://colab.research.google.com/assets/colab-badge.svg\" alt=\"Open In Colab\"/></a>"
      ]
    },
    {
      "cell_type": "code",
      "metadata": {
        "id": "GasBEOdTPpS9"
      },
      "source": [
        "import matplotlib.pyplot as plt\n",
        "import pandas as pd\n",
        "import numpy as np\n",
        "from datetime import datetime\n",
        "import calendar as cal\n",
        "import scipy.stats \n",
        "\n",
        "class NBA_HypothesisTtest:\n",
        "  '''\n",
        "      pandas dataframe must have following features \n",
        "      for the given team\n",
        "      ['Date', 'Sep', 'Opp', 'Result', \n",
        "       'TeamScore', 'OpponentScore', 'FG', \n",
        "       'FGA', 'FG%', '3P', '3PA', '3P%', \n",
        "       'FT', 'FTA', 'FT%', 'ORB', 'TRB',\n",
        "       'AST', 'STL', 'BLK', 'TOV', 'PF']\n",
        "        \n",
        "      reference:https://www.basketball\n",
        "      -reference.com/teams/POR/1999/gamelog/\n",
        "  '''\n",
        "\n",
        "  def __init__(self,df_gamelog):\n",
        "    \n",
        "\n",
        "    #new column indicating Home or Away game \n",
        "    df_gamelog['HomeAway']=np.where\\\n",
        "          (df_gamelog['Sep']=='@','Away','Home')\n",
        "     \n",
        "    #converting the date column to pandas datetime format\n",
        "    df_gamelog['Date']=pd.to_datetime(df_gamelog['Date'])   \n",
        "\n",
        "    #creating a new column indicating the \n",
        "    #difference in score for Portland against a specific team\n",
        "    df_gamelog['DiffScore']=df_gamelog['TeamScore']\\\n",
        "    -df_gamelog['OpponentScore']\n",
        "\n",
        "    #creating a variable inside the class for further methods\n",
        "    self.df_gamelog=df_gamelog\n",
        "    \n",
        "    #Finding all indices of home and away games in the dataframe\n",
        "    self.home_inds=np.where(df_gamelog['HomeAway']=='Home')\n",
        "    self.away_inds=np.where(df_gamelog['HomeAway']=='Away')\n",
        " \n",
        "\n",
        "  def ttest(self,x1,x2):\n",
        "  \n",
        "    #calcuating student t-test statistics \n",
        "\n",
        "    #length of sequences x1 and x2\n",
        "    n1=len(x1)\n",
        "    n2=len(x2)\n",
        "\n",
        "    #variance of sequences x1 and x2\n",
        "    v1=np.var(x1)\n",
        "    v2=np.var(x2)\n",
        "    \n",
        "    #mean of sequences x1 and x2\n",
        "    m1=np.mean(x1)\n",
        "    m2=np.mean(x2)\n",
        "\n",
        "    num=np.abs(m1-m2)\n",
        "    denom= np.sqrt((v1/n1)+(v2/n2))\n",
        "     \n",
        "    #if the variance v1 or/and v2 are 0, return None \n",
        "    if denom>0:\n",
        "      t_value=num/denom\n",
        "      return t_value\n",
        "    \n",
        "    else:\n",
        "      return None\n",
        "\n",
        "  def hypothesis_test(self,metric='DiffScore',\n",
        "                      opponent_teams=['LAC','LAL',\n",
        "                                      'PHO','SAS','GSW','DEN'],\n",
        "                       significance_level=0.95,\n",
        "                       no_games=10):\n",
        "    \n",
        "    #creating to separate dataframe for\n",
        "    #home games and away games for further analysis\n",
        "    home_games=self.df_gamelog.iloc[self.home_inds]\n",
        "    away_games=self.df_gamelog.iloc[self.away_inds]\n",
        "\n",
        "    #list which will be used for storing \n",
        "    #the team tags for which null hypothesis \n",
        "    #is rejected (or not rejected). \n",
        "    h_reject=[]\n",
        "    h_dnreject=[]  \n",
        "\n",
        "    for team in opponent_teams:\n",
        "      \n",
        "      print('\\nTeam ',team)\n",
        "      \n",
        "      #finding the indicies where \n",
        "      #Portland plays against a specific team\n",
        "      \n",
        "      \n",
        "      home_game_inds=np.where(home_games['Opp']==team)   \n",
        "      away_game_inds=np.where(away_games['Opp']==team)   \n",
        "      \n",
        "      #finding the metric values for home and \n",
        "      #away games,to be used for ttest \n",
        "      x_home=home_games.iloc[home_game_inds][metric]     \n",
        "      x_away=away_games.iloc[away_game_inds][metric]\n",
        "      print(len(x_home))\n",
        "      print(len(x_away))\n",
        "      \n",
        "      #selecting equal number of samples from home and away \n",
        "      if(len(x_home)==len(x_away)):\n",
        "        x_home=x_home[:no_games]\n",
        "        x_away=x_away[:no_games]\n",
        "        #print('both are of the same length')\n",
        "      if(len(x_home)>len(x_away)):\n",
        "        x_home=x_home[:len(x_away)][:no_games]\n",
        "      if(len(x_home)<len(x_away)):\n",
        "        x_away=x_away[:len(x_home)][:no_games]\n",
        "\n",
        "      print(len(x_home))\n",
        "      print(len(x_away))\n",
        "      #calling the class method ttest\n",
        "      t_stat=self.ttest(x_home,x_away)\n",
        "      #print('t stat',t_stat)\n",
        "      '''\n",
        "      finding out the t value at \n",
        "      given level of certainity for \n",
        "      sample size n1 and n2, \n",
        "      lengths of each sample\n",
        "      '''\n",
        "      n1=len(x_home)\n",
        "      n2=len(x_away) \n",
        "      #using scipy.stats library to find the t-value\n",
        "      t_val=scipy.stats.t.ppf\\\n",
        "      (significance_level,df=n1+n2-2)\n",
        "      #print('t value',t_val)\n",
        "\n",
        "      #finding the teams for which null\n",
        "      #hypothesis was rejected or not rejected\n",
        "      if (t_stat>t_val):\n",
        "        h_reject.append(team)  \n",
        "      else:\n",
        "        h_dnreject.append(team)\n",
        "\n",
        "    print('\\nFor the metric',metric)\n",
        "    print('Null Hypothesis is rejected ',h_reject)  \n",
        "    print('Null Hypothesis cannot be rejected',h_dnreject)   \n",
        "\n",
        "  "
      ],
      "execution_count": null,
      "outputs": []
    },
    {
      "cell_type": "markdown",
      "metadata": {
        "id": "gdFipOSSEGjT"
      },
      "source": [
        "# Homecrowd advantage against a specific team using student t-test"
      ]
    },
    {
      "cell_type": "markdown",
      "metadata": {
        "id": "HiSxywzDEFkZ"
      },
      "source": [
        "* $H_0:-$ For Portland playing at Rosegarden has no effect on winning the game against a team.\n",
        "* $H_1:-$ There is some statistically significant advantage to play at home against a specific team. "
      ]
    },
    {
      "cell_type": "code",
      "metadata": {
        "colab": {
          "base_uri": "https://localhost:8080/"
        },
        "id": "UIE1ve7DcmrO",
        "outputId": "372c6cf9-df9f-4012-c710-33def310b7fc"
      },
      "source": [
        "df=pd.read_csv('/content/homeaway_updated.csv')\n",
        "#ignoring the matches from season 1998-99\n",
        "df=df.drop([0,1])\n",
        "\n",
        "ob=NBA_HypothesisTtest(df)\n",
        "ob.hypothesis_test(metric='DiffScore',significance_level=0.95)\n"
      ],
      "execution_count": null,
      "outputs": [
        {
          "output_type": "stream",
          "text": [
            "\n",
            "Team  LAC\n",
            "10\n",
            "10\n",
            "10\n",
            "10\n",
            "\n",
            "Team  LAL\n",
            "10\n",
            "10\n",
            "10\n",
            "10\n",
            "\n",
            "Team  PHO\n",
            "10\n",
            "10\n",
            "10\n",
            "10\n",
            "\n",
            "Team  SAS\n",
            "10\n",
            "10\n",
            "10\n",
            "10\n",
            "\n",
            "Team  GSW\n",
            "10\n",
            "10\n",
            "10\n",
            "10\n",
            "\n",
            "Team  DEN\n",
            "10\n",
            "10\n",
            "10\n",
            "10\n",
            "\n",
            "For the metric DiffScore\n",
            "Null Hypothesis is rejected  ['LAC', 'LAL']\n",
            "Null Hypothesis cannot be rejected ['PHO', 'SAS', 'GSW', 'DEN']\n"
          ],
          "name": "stdout"
        }
      ]
    },
    {
      "cell_type": "markdown",
      "metadata": {
        "id": "K5cgxSx7EM_S"
      },
      "source": [
        "# Hypothesis test: significance of games against a certain team for FG% ?"
      ]
    },
    {
      "cell_type": "markdown",
      "metadata": {
        "id": "7QNT5eMgENeS"
      },
      "source": [
        "* $H_0:-$ For Portland playing at Rosegarden has **no effect** on FG% against a certain team .\n",
        "* $H_1:-$ There is some statistically significant difference in FG% for Portland when playing against a certain at home or away."
      ]
    },
    {
      "cell_type": "code",
      "metadata": {
        "colab": {
          "base_uri": "https://localhost:8080/"
        },
        "id": "acBy7QgtwmoQ",
        "outputId": "d1465662-f0e3-40cc-a6df-7520b63fba25"
      },
      "source": [
        "ob.hypothesis_test(metric='FG%',significance_level=0.95)\n",
        "     "
      ],
      "execution_count": null,
      "outputs": [
        {
          "output_type": "stream",
          "text": [
            "\n",
            "Team  LAC\n",
            "10\n",
            "10\n",
            "10\n",
            "10\n",
            "\n",
            "Team  LAL\n",
            "10\n",
            "10\n",
            "10\n",
            "10\n",
            "\n",
            "Team  PHO\n",
            "10\n",
            "10\n",
            "10\n",
            "10\n",
            "\n",
            "Team  SAS\n",
            "10\n",
            "10\n",
            "10\n",
            "10\n",
            "\n",
            "Team  GSW\n",
            "10\n",
            "10\n",
            "10\n",
            "10\n",
            "\n",
            "Team  DEN\n",
            "10\n",
            "10\n",
            "10\n",
            "10\n",
            "\n",
            "For the metric FG%\n",
            "Null Hypothesis is rejected  ['LAC', 'DEN']\n",
            "Null Hypothesis cannot be rejected ['LAL', 'PHO', 'SAS', 'GSW']\n"
          ],
          "name": "stdout"
        }
      ]
    },
    {
      "cell_type": "markdown",
      "metadata": {
        "id": "7tN_Imc7Ehxl"
      },
      "source": [
        "# Hypothesis test: significance of games against a certain team for FT% ?"
      ]
    },
    {
      "cell_type": "markdown",
      "metadata": {
        "id": "AUIPNQe-EiTp"
      },
      "source": [
        "* $H_0:-$ For Portland playing at Rosegarden has **no effect** on FT% against a certain team .\n",
        "* $H_1:-$ There is some statistically significant difference in FT% for Portland when playing against a certain at home or away."
      ]
    },
    {
      "cell_type": "code",
      "metadata": {
        "colab": {
          "base_uri": "https://localhost:8080/"
        },
        "id": "HLlXK19mmAMS",
        "outputId": "00a251ea-d112-4844-a5e5-2a220497a085"
      },
      "source": [
        "ob.hypothesis_test(metric='FT%',significance_level=0.95)"
      ],
      "execution_count": null,
      "outputs": [
        {
          "output_type": "stream",
          "text": [
            "\n",
            "Team  LAC\n",
            "10\n",
            "10\n",
            "10\n",
            "10\n",
            "\n",
            "Team  LAL\n",
            "10\n",
            "10\n",
            "10\n",
            "10\n",
            "\n",
            "Team  PHO\n",
            "10\n",
            "10\n",
            "10\n",
            "10\n",
            "\n",
            "Team  SAS\n",
            "10\n",
            "10\n",
            "10\n",
            "10\n",
            "\n",
            "Team  GSW\n",
            "10\n",
            "10\n",
            "10\n",
            "10\n",
            "\n",
            "Team  DEN\n",
            "10\n",
            "10\n",
            "10\n",
            "10\n",
            "\n",
            "For the metric FT%\n",
            "Null Hypothesis is rejected  []\n",
            "Null Hypothesis cannot be rejected ['LAC', 'LAL', 'PHO', 'SAS', 'GSW', 'DEN']\n"
          ],
          "name": "stdout"
        }
      ]
    },
    {
      "cell_type": "markdown",
      "metadata": {
        "id": "NlqImeYYEr1s"
      },
      "source": [
        "# Hypothesis test: significance of games against a certain team for ORB ?"
      ]
    },
    {
      "cell_type": "markdown",
      "metadata": {
        "id": "XS_Uc6XhEukS"
      },
      "source": [
        "* $H_0:-$ For Portland playing at Rosegarden has **no effect** on ORB against a certain team .\n",
        "* $H_1:-$ There is some statistically significant difference in ORB for Portland when playing against a certain at home or away."
      ]
    },
    {
      "cell_type": "code",
      "metadata": {
        "colab": {
          "base_uri": "https://localhost:8080/"
        },
        "id": "_W75x1z8EtvJ",
        "outputId": "39b6da2a-c44e-4f67-d8dd-6e5a35061cba"
      },
      "source": [
        "ob.hypothesis_test(metric='ORB',significance_level=0.95)"
      ],
      "execution_count": null,
      "outputs": [
        {
          "output_type": "stream",
          "text": [
            "\n",
            "Team  LAC\n",
            "10\n",
            "10\n",
            "10\n",
            "10\n",
            "\n",
            "Team  LAL\n",
            "10\n",
            "10\n",
            "10\n",
            "10\n",
            "\n",
            "Team  PHO\n",
            "10\n",
            "10\n",
            "10\n",
            "10\n",
            "\n",
            "Team  SAS\n",
            "10\n",
            "10\n",
            "10\n",
            "10\n",
            "\n",
            "Team  GSW\n",
            "10\n",
            "10\n",
            "10\n",
            "10\n",
            "\n",
            "Team  DEN\n",
            "10\n",
            "10\n",
            "10\n",
            "10\n",
            "\n",
            "For the metric ORB\n",
            "Null Hypothesis is rejected  ['LAL', 'PHO', 'DEN']\n",
            "Null Hypothesis cannot be rejected ['LAC', 'SAS', 'GSW']\n"
          ],
          "name": "stdout"
        }
      ]
    }
  ]
}
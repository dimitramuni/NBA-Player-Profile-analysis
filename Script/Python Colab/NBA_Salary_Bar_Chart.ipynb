{
  "nbformat": 4,
  "nbformat_minor": 0,
  "metadata": {
    "colab": {
      "name": "NBA Salary Bar Chart.ipynb",
      "provenance": [],
      "authorship_tag": "ABX9TyNi9tKksKdChOOPzKXH4ToQ",
      "include_colab_link": true
    },
    "kernelspec": {
      "name": "python3",
      "display_name": "Python 3"
    },
    "language_info": {
      "name": "python"
    }
  },
  "cells": [
    {
      "cell_type": "markdown",
      "metadata": {
        "id": "view-in-github",
        "colab_type": "text"
      },
      "source": [
        "<a href=\"https://colab.research.google.com/github/dimitramuni/NBA-Player-Profile-analysis/blob/main/Script/NBA_Salary_Bar_Chart.ipynb\" target=\"_parent\"><img src=\"https://colab.research.google.com/assets/colab-badge.svg\" alt=\"Open In Colab\"/></a>"
      ]
    },
    {
      "cell_type": "code",
      "metadata": {
        "colab": {
          "base_uri": "https://localhost:8080/",
          "height": 901
        },
        "id": "7gE1RVdqPQim",
        "outputId": "677b11a8-60f7-4efd-ff24-bb36f08dc912"
      },
      "source": [
        "import pandas as pd\n",
        "import seaborn as sns\n",
        "import matplotlib.pyplot as plt\n",
        "\n",
        "\n",
        "portland_salary=pd.read_csv('/content/Portland_Yearly_Total_Salary.csv')\n",
        "\n",
        "\n",
        "plt.figure(figsize=(14,10))\n",
        "\n",
        "sns.barplot(x='Season',\n",
        "            y='Total Salary',\n",
        "            data=portland_salary\n",
        "            )\n",
        "plt.grid(True)\n",
        "plt.ylabel('Total Salary in USD')\n",
        "plt.title('Portland Trail Blazers Budget from season 1998 - 1999 to 2005 - 2006')\n",
        "plt.show()\n",
        "portland_salary"
      ],
      "execution_count": null,
      "outputs": [
        {
          "output_type": "display_data",
          "data": {
            "image/png": "[encoded data removed]",
            "text/plain": [
              "<Figure size 1008x720 with 1 Axes>"
            ]
          },
          "metadata": {
            "tags": [],
            "needs_background": "light"
          }
        },
        {
          "output_type": "execute_result",
          "data": {
            "text/html": [
              "<div>\n",
              "<style scoped>\n",
              "    .dataframe tbody tr th:only-of-type {\n",
              "        vertical-align: middle;\n",
              "    }\n",
              "\n",
              "    .dataframe tbody tr th {\n",
              "        vertical-align: top;\n",
              "    }\n",
              "\n",
              "    .dataframe thead th {\n",
              "        text-align: right;\n",
              "    }\n",
              "</style>\n",
              "<table border=\"1\" class=\"dataframe\">\n",
              "  <thead>\n",
              "    <tr style=\"text-align: right;\">\n",
              "      <th></th>\n",
              "      <th>Season</th>\n",
              "      <th>Total Salary</th>\n",
              "    </tr>\n",
              "  </thead>\n",
              "  <tbody>\n",
              "    <tr>\n",
              "      <th>0</th>\n",
              "      <td>1998-1999</td>\n",
              "      <td>54725500</td>\n",
              "    </tr>\n",
              "    <tr>\n",
              "      <th>1</th>\n",
              "      <td>1999-2000</td>\n",
              "      <td>73898705</td>\n",
              "    </tr>\n",
              "    <tr>\n",
              "      <th>2</th>\n",
              "      <td>2000-2001</td>\n",
              "      <td>87395140</td>\n",
              "    </tr>\n",
              "    <tr>\n",
              "      <th>3</th>\n",
              "      <td>2001-2002</td>\n",
              "      <td>84292850</td>\n",
              "    </tr>\n",
              "    <tr>\n",
              "      <th>4</th>\n",
              "      <td>2002-2003</td>\n",
              "      <td>105595657</td>\n",
              "    </tr>\n",
              "    <tr>\n",
              "      <th>5</th>\n",
              "      <td>2003-2004</td>\n",
              "      <td>82956768</td>\n",
              "    </tr>\n",
              "    <tr>\n",
              "      <th>6</th>\n",
              "      <td>2004-2005</td>\n",
              "      <td>83671309</td>\n",
              "    </tr>\n",
              "    <tr>\n",
              "      <th>7</th>\n",
              "      <td>2005-2006</td>\n",
              "      <td>60017964</td>\n",
              "    </tr>\n",
              "  </tbody>\n",
              "</table>\n",
              "</div>"
            ],
            "text/plain": [
              "      Season  Total Salary\n",
              "0  1998-1999      54725500\n",
              "1  1999-2000      73898705\n",
              "2  2000-2001      87395140\n",
              "3  2001-2002      84292850\n",
              "4  2002-2003     105595657\n",
              "5  2003-2004      82956768\n",
              "6  2004-2005      83671309\n",
              "7  2005-2006      60017964"
            ]
          },
          "metadata": {
            "tags": []
          },
          "execution_count": 3
        }
      ]
    }
  ]
}
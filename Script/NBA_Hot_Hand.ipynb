{
  "nbformat": 4,
  "nbformat_minor": 0,
  "metadata": {
    "colab": {
      "name": "NBA Hot Hand.ipynb",
      "provenance": [],
      "authorship_tag": "ABX9TyPW6WPzVA5Lgk+jgbxQhLfC",
      "include_colab_link": true
    },
    "kernelspec": {
      "name": "python3",
      "display_name": "Python 3"
    },
    "language_info": {
      "name": "python"
    }
  },
  "cells": [
    {
      "cell_type": "markdown",
      "metadata": {
        "id": "view-in-github",
        "colab_type": "text"
      },
      "source": [
        "<a href=\"https://colab.research.google.com/github/dimitramuni/NBA-Player-Profile-analysis/blob/main/Script/NBA_Hot_Hand.ipynb\" target=\"_parent\"><img src=\"https://colab.research.google.com/assets/colab-badge.svg\" alt=\"Open In Colab\"/></a>"
      ]
    },
    {
      "cell_type": "code",
      "metadata": {
        "id": "iQXIZzJqFKyi"
      },
      "source": [
        "import pandas as pd\n",
        "import numpy as np\n",
        "import matplotlib.pyplot as plt\n",
        "import calendar as cal\n",
        "import scipy.stats \n",
        "from datetime import datetime\n",
        "from IPython.display import Markdown, display\n",
        "\n",
        "class NBA_HotHand:\n",
        "  '''\n",
        "      pandas dataframe must have following \n",
        "      features for the given team\n",
        "      ['Date', 'Sep', 'Opp', 'Result', \n",
        "       'TeamScore', 'OpponentScore', 'FG', \n",
        "       'FGA', 'FG%', '3P', '3PA', '3P%', \n",
        "       'FT', 'FTA', 'FT%', 'ORB', 'TRB',\n",
        "       'AST', 'STL', 'BLK', 'TOV', 'PF']\n",
        "        \n",
        "      ref:https://www.basketball-reference.com\n",
        "               /teams/POR/1999/gamelog/\n",
        "  '''\n",
        "\n",
        "  def __init__(self,df_gamelog):\n",
        "  \n",
        "    #converting date into pandas datetime format\n",
        "    df_gamelog['Date']=pd.to_datetime(df_gamelog['Date'])  \n",
        "    #creating a variable inside \n",
        "    #the class for further method\n",
        "    self.df_gamelog=df_gamelog\n",
        "\n",
        "\n",
        "\n",
        "  def hothand_analysis(self):\n",
        "\n",
        "    '''\n",
        "    Initialzing the counter variables (flags) to zero.\n",
        "    '''\n",
        "    flag_currwin_prevloss=0\n",
        "    flag_prevloss=0\n",
        "    flag_currwin_prev2loss=0\n",
        "    flag_prev2loss=0\n",
        "    flag_currwin_prev3loss=0\n",
        "    flag_prev3loss=0\n",
        "\n",
        "    flag_currwin_prevwin=0\n",
        "    flag_prevwin=0\n",
        "    flag_currwin_prev2win=0\n",
        "    flag_prev2win=0\n",
        "    flag_currwin_prev3win=0\n",
        "    flag_prev3win=0\n",
        "\n",
        "    flag_no_matches_considered=0\n",
        "\n",
        "    for ind in range(2,self.df_gamelog.shape[0]):\n",
        "\n",
        "      flag_no_matches_considered=flag_no_matches_considered+1\n",
        "\n",
        "      '''\n",
        "      lookup operation to find out the \n",
        "      conditional probabilities of current \n",
        "      win/loss given N previous win loss in the row.\n",
        "      '''\n",
        "\n",
        "      ''' Previous Losses'''\n",
        "      #counter for the P(current_win | 1 previous_loss)\n",
        "      if(('W' in self.df_gamelog['Result'].iloc[ind]) and\n",
        "         ('L' in self.df_gamelog['Result'].iloc[ind-1]) ):\n",
        "        flag_currwin_prevloss=flag_currwin_prevloss+1\n",
        "       #counter for the P(1 previous_loss)\n",
        "      if('L' in self.df_gamelog['Result'].iloc[ind-1]):\n",
        "        flag_prevloss=flag_prevloss+1\n",
        "\n",
        "\n",
        "      #counter for the P(current_win | 2 previous_loss)\n",
        "      if(('W' in self.df_gamelog['Result'].iloc[ind]) and \n",
        "         ('L' in self.df_gamelog['Result'].iloc[ind-1]) and\n",
        "         ('L' in self.df_gamelog['Result'].iloc[ind-2]) and\n",
        "         (ind>1)):\n",
        "        flag_currwin_prev2loss=flag_currwin_prev2loss+1\n",
        "      #counter for the P(2 previous_loss)\n",
        "      if(('L' in self.df_gamelog['Result'].iloc[ind-1]) \n",
        "      and ('L' in self.df_gamelog['Result'].iloc[ind-2]) and \n",
        "         (ind>1)):\n",
        "        flag_prev2loss=flag_prev2loss+2\n",
        "\n",
        "\n",
        "\n",
        "      #counter for the P(current_win | 3 previous_loss)\n",
        "      if(('W' in self.df_gamelog['Result'].iloc[ind]) and \n",
        "         ('L' in self.df_gamelog['Result'].iloc[ind-1]) and \n",
        "         ('L' in self.df_gamelog['Result'].iloc[ind-2]) and \n",
        "         ('L' in self.df_gamelog['Result'].iloc[ind-3]) and \n",
        "         (ind>2)):\n",
        "        flag_currwin_prev3loss=flag_currwin_prev3loss+1\n",
        "      #counter for the P(3 previous_loss)\n",
        "      if(('L' in self.df_gamelog['Result'].iloc[ind-1]) and \n",
        "         ('L' in self.df_gamelog['Result'].iloc[ind-2]) and \n",
        "         ('L' in self.df_gamelog['Result'].iloc[ind-3]) and \n",
        "         (ind>2)):\n",
        "        flag_prev3loss=flag_prev3loss+1\n",
        "\n",
        "      '''Previous Wins'''\n",
        "\n",
        "      #counter for the P(current_win | 1 previous_win)\n",
        "      if(('W' in self.df_gamelog['Result'].iloc[ind])and\n",
        "         ('W' in self.df_gamelog['Result'].iloc[ind-1])):\n",
        "        flag_currwin_prevwin=flag_currwin_prevwin+1\n",
        "      #counter for the P( 1 previous_win)\n",
        "      if('W' in self.df_gamelog['Result'].iloc[ind-1]):\n",
        "        flag_prevwin=flag_prevwin+1\n",
        "\n",
        "      #counter for the P(current_win | 2 previous_win)\n",
        "      if(('W' in self.df_gamelog['Result'].iloc[ind]) and \n",
        "         ('W' in self.df_gamelog['Result'].iloc[ind-1]) and\n",
        "         ('W' in self.df_gamelog['Result'].iloc[ind-2]) and\n",
        "         (ind>1)):\n",
        "        flag_currwin_prev2win=flag_currwin_prev2win+1\n",
        "      #counter for the P(2 previous_win)\n",
        "      if(('W' in self.df_gamelog['Result'].iloc[ind-1]) and\n",
        "         ('W' in self.df_gamelog['Result'].iloc[ind-2]) and\n",
        "         (ind>1)):\n",
        "        flag_prev2win=flag_prev2win+1\n",
        "        \n",
        "      #counter for the P(current_win | 3 previous_win)\n",
        "      if(('W' in self.df_gamelog['Result'].iloc[ind]) and \n",
        "         ('W' in self.df_gamelog['Result'].iloc[ind-1]) and \n",
        "         ('W' in self.df_gamelog['Result'].iloc[ind-2]) and \n",
        "         ('W' in self.df_gamelog['Result'].iloc[ind-3]) and \n",
        "         (ind>2)):\n",
        "        flag_currwin_prev3win=flag_currwin_prev3win+1\n",
        "      #counter for the P(3 previous_win)\n",
        "      if( ('W' in self.df_gamelog['Result'].iloc[ind-1]) and \n",
        "         ('W' in self.df_gamelog['Result'].iloc[ind-2]) and \n",
        "         ('W' in self.df_gamelog['Result'].iloc[ind-3]) and \n",
        "         (ind>2)):\n",
        "        flag_prev3win=flag_prev3win+1\n",
        "\n",
        "#P(current_win|1 previous_loss)\n",
        "    #finding the P(current_win,1 previous_loss) \n",
        "    #display(Markdown('$P(CurrWin,1PrevLoss):-$'),flag_currwin_prevloss/(self.df_gamelog.shape[0]-1) )\n",
        "    #finding P(1 previous_loss)\n",
        "    #display(Markdown('$P(1PrevLoss):-$'),flag_prevloss/(self.df_gamelog.shape[0]-1) )\n",
        "    #P(curren_win|1 previous_loss)\n",
        "    print('\\n')\n",
        "    display(Markdown('$P(CurrWin|1PrevLoss):-$'),flag_currwin_prevloss/flag_prevloss)\n",
        "    print('No. of One Prev Loss',flag_prevloss)\n",
        "    print('No. of Current win and 1 Previous Loss',flag_currwin_prevloss)\n",
        "\n",
        "#P(current_win|2 previous_loss)\n",
        "\n",
        "\n",
        "    #finding the P(current_win,2 previous_loss)\n",
        "    #display(Markdown('$P(CurrWin,2PrevLoss):-$'),flag_currwin_prev2loss/(self.df_gamelog.shape[0]-2) )\n",
        "    #finding P(2 previous_loss)\n",
        "    #display(Markdown('$P(2PrevLoss):-$'),flag_prev2loss/(self.df_gamelog.shape[0]-2) )\n",
        "    #P(curren_win|2 previous_loss)\n",
        "    print('\\n')\n",
        "    display(Markdown('$P(CurrWin|2PrevLoss):-$'),flag_currwin_prev2loss/flag_prev2loss)\n",
        "    print('No. of Two Prev Losses',flag_prev2loss)\n",
        "    print('No. of Current win and 2 Previous Loss',flag_currwin_prev2loss)\n",
        "    \n",
        "#P(current_win|3 previous_loss)\n",
        "\n",
        "\n",
        "    #finding the P(current_win,3 previous_loss)\n",
        "    #display(Markdown('$P(CurrWin,3PrevLoss):-$'),flag_currwin_prev3loss/(self.df_gamelog.shape[0]-3) ) \n",
        "    #finding P(3 previous_loss)\n",
        "    #display(Markdown('$P(3PrevLoss):-$'),flag_prev3loss/(self.df_gamelog.shape[0]-3) )\n",
        "    #P(curren_win|3 previous_loss)\n",
        "    #display(Markdown('$P(CurrWin|3PrevLoss):-$'),flag_currwin_prev3loss/flag_prev3loss)\n",
        "\n",
        "\n",
        "#P(current_win|1 previous_loss)\n",
        "\n",
        "\n",
        "    #finding the P(current_win,1 previous_win)\n",
        "    #display(Markdown('$P(CurrWin,1PrevWin):-$'),flag_currwin_prevwin/(self.df_gamelog.shape[0]-1) ) \n",
        "    #finding P(1 previous_win)\n",
        "    #display(Markdown('$P(1PrevLoss):-$'),flag_prevwin/(self.df_gamelog.shape[0]-1) )\n",
        "    #P(curren_win|1 previous_win)\n",
        "    print('\\n')\n",
        "    display(Markdown('$P(CurrWin|1PrevWins):-$'),flag_currwin_prevwin/flag_prevwin)\n",
        "    print('No. of One Prev Wins',flag_prevwin)\n",
        "    print('No. of Current win and 1 Prev Wins',flag_currwin_prevwin)\n",
        "\n",
        "#P(current_win|2 previous_loss)\n",
        "\n",
        "    #finding the P(current_win,2 previous_win)\n",
        "    #display(Markdown('$P(CurrWin,2PrevWin):-$'),flag_currwin_prev2win/(self.df_gamelog.shape[0]-2) )\n",
        "    #finding P(2 previous_win)\n",
        "    #display(Markdown('$P(2PrevWins):-$'),flag_prev2win/(self.df_gamelog.shape[0]-2) )\n",
        "    #P(curren_win|1 previous_win)\n",
        "    print('\\n')\n",
        "    display(Markdown('$P(CurrWin|2PrevWins):-$'),flag_currwin_prev2win/flag_prev2win)\n",
        "    print('No. of Two Prev Wins',flag_prev2win)\n",
        "    print('No. of Current win and 2 Prev Wins',flag_currwin_prev2win)\n",
        "\n",
        "\n",
        "    #finding the P(current_win, 3 previous_win)\n",
        "    #display(Markdown('$P(CurrWin,3PrevWin):-$'),flag_currwin_prev3win/(self.df_gamelog.shape[0]-3) )\n",
        "    #finding P(3 previous_win)\n",
        "    #display(Markdown('$P(3PrevWins):-$'),flag_prev3win/(self.df_gamelog.shape[0]-3) )\n",
        "    #P(curren_win|3 previous_win)\n",
        "    #display(Markdown('$P(CurrWin|3PrevWins):-$'),flag_currwin_prev3win/flag_prev3win)\n",
        "\n",
        "\n",
        "    print('\\nNo. of total matches considered',flag_no_matches_considered)\n",
        "    return None\n",
        "\n"
      ],
      "execution_count": null,
      "outputs": []
    },
    {
      "cell_type": "markdown",
      "metadata": {
        "id": "R-F5aD6_JHIy"
      },
      "source": [
        "# Hot Hand Analysis for Portland 1999-2004"
      ]
    },
    {
      "cell_type": "markdown",
      "metadata": {
        "id": "fYVTVUDMs4Td"
      },
      "source": [
        "*$P(x_i=1|x_{i-1}=0)=\\frac{P(x_i=1,x_{i-1}=0)}{P(x_{i-1}=0)}, 2\\le i\\le n$*\n",
        "\n",
        "*$P(x_i=1|x_{i-2:i-1}=0)=\\frac{P(x_i=1,x_{i-2:i-1}=0)}{P(x_{i-2:i-1}=0)},3\\le i\\le n$*\n",
        "\n",
        "*$P(x_i=1|x_{i-3:i-1}=0)=\\frac{P(x_i=1,x_{i-3:i-1}=0)}{P(x_{i-3:i-1}=0)},4\\le i\\le n$*\n",
        "\n",
        "*$P(x_i=1|x_{i-1}=1)=\\frac{P(x_i=1,x_{i-1}=1)}{P(x_{i-1}=1)},2\\le i\\le n$*\n",
        "\n",
        "*$P(x_i=1|x_{i-2:i-1}=1)=\\frac{P(x_i=1,x_{i-2:i-1}=1)}{P(x_{i-2:i-1}=1)},3\\le i\\le n$*\n",
        "\n",
        "*$P(x_i=1|x_{i-3:i-1}=1)=\\frac{P(x_i=1,x_{i-3:i-1}=1)}{P(x_{i-3:i-1}=1)},4\\le i\\le n$*"
      ]
    },
    {
      "cell_type": "code",
      "metadata": {
        "colab": {
          "base_uri": "https://localhost:8080/",
          "height": 523
        },
        "id": "YaQn0zYFHKqH",
        "outputId": "960b9d96-b02a-4411-9bd6-abd06c3c0361"
      },
      "source": [
        "df=pd.read_csv('/content/homeaway_updated.csv')\n",
        "ob=NBA_HotHand(df)\n",
        "ob.hothand_analysis()"
      ],
      "execution_count": null,
      "outputs": [
        {
          "output_type": "stream",
          "text": [
            "\n",
            "\n"
          ],
          "name": "stdout"
        },
        {
          "output_type": "display_data",
          "data": {
            "text/markdown": "$P(CurrWin|1PrevLoss):-$",
            "text/plain": [
              "<IPython.core.display.Markdown object>"
            ]
          },
          "metadata": {
            "tags": []
          }
        },
        {
          "output_type": "display_data",
          "data": {
            "text/plain": [
              "0.5838509316770186"
            ]
          },
          "metadata": {
            "tags": []
          }
        },
        {
          "output_type": "stream",
          "text": [
            "No. of One Prev Loss 161\n",
            "No. of Current win and 1 Previous Loss 94\n",
            "\n",
            "\n"
          ],
          "name": "stdout"
        },
        {
          "output_type": "display_data",
          "data": {
            "text/markdown": "$P(CurrWin|2PrevLoss):-$",
            "text/plain": [
              "<IPython.core.display.Markdown object>"
            ]
          },
          "metadata": {
            "tags": []
          }
        },
        {
          "output_type": "display_data",
          "data": {
            "text/plain": [
              "0.29850746268656714"
            ]
          },
          "metadata": {
            "tags": []
          }
        },
        {
          "output_type": "stream",
          "text": [
            "No. of Two Prev Losses 134\n",
            "No. of Current win and 2 Previous Loss 40\n",
            "\n",
            "\n"
          ],
          "name": "stdout"
        },
        {
          "output_type": "display_data",
          "data": {
            "text/markdown": "$P(CurrWin|1PrevWins):-$",
            "text/plain": [
              "<IPython.core.display.Markdown object>"
            ]
          },
          "metadata": {
            "tags": []
          }
        },
        {
          "output_type": "display_data",
          "data": {
            "text/plain": [
              "0.6224899598393574"
            ]
          },
          "metadata": {
            "tags": []
          }
        },
        {
          "output_type": "stream",
          "text": [
            "No. of One Prev Wins 249\n",
            "No. of Current win and 1 Prev Wins 155\n",
            "\n",
            "\n"
          ],
          "name": "stdout"
        },
        {
          "output_type": "display_data",
          "data": {
            "text/markdown": "$P(CurrWin|2PrevWins):-$",
            "text/plain": [
              "<IPython.core.display.Markdown object>"
            ]
          },
          "metadata": {
            "tags": []
          }
        },
        {
          "output_type": "display_data",
          "data": {
            "text/plain": [
              "0.6129032258064516"
            ]
          },
          "metadata": {
            "tags": []
          }
        },
        {
          "output_type": "stream",
          "text": [
            "No. of Two Prev Wins 155\n",
            "No. of Current win and 2 Prev Wins 95\n",
            "\n",
            "No. of total matches considered 410\n"
          ],
          "name": "stdout"
        }
      ]
    }
  ]
}